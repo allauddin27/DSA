{
 "cells": [
  {
   "cell_type": "markdown",
   "metadata": {},
   "source": [
    "### add function using numpy"
   ]
  },
  {
   "cell_type": "code",
   "execution_count": 15,
   "metadata": {},
   "outputs": [
    {
     "name": "stdout",
     "output_type": "stream",
     "text": [
      "[17 19 21 23 25]\n",
      "[5 5 5 5 5]\n",
      "[ 66  84 104 126 150]\n",
      "[1.83333333 1.71428571 1.625      1.55555556 1.5       ]\n",
      "[     1771561     35831808    815730721  20661046784 576650390625]\n",
      "[5 5 5 5 5]\n",
      "(array([1, 1, 1, 1, 1]), array([5, 5, 5, 5, 5]))\n"
     ]
    }
   ],
   "source": [
    "import numpy as np\n",
    "arr1 = np.array([11,12,13,14,15])\n",
    "arr2 = np.array([6,7,8,9,10])\n",
    "newarradd = np.add(arr1, arr2)\n",
    "newarrsub = np.subtract(arr1, arr2)\n",
    "newarrmulti = np.multiply(arr1, arr2)\n",
    "newarrdivide = np.divide(arr1, arr2)\n",
    "newarrpower= np.power(arr1, arr2)\n",
    "newarrmod = np.mod(arr1, arr2)\n",
    "newarrdivmod = np.divmod(arr1,arr2)\n",
    "print(newarradd)\n",
    "print(newarrsub)\n",
    "print(newarrmulti)\n",
    "print(newarrdivide)\n",
    "print(newarrpower)\n",
    "print(newarrmod)\n",
    "print(newarrdivmod)"
   ]
  },
  {
   "cell_type": "markdown",
   "metadata": {},
   "source": [
    "### ufunction Rounding Decimals."
   ]
  },
  {
   "cell_type": "code",
   "execution_count": 25,
   "metadata": {},
   "outputs": [
    {
     "name": "stdout",
     "output_type": "stream",
     "text": [
      "truncate [-3.  4.]\n",
      "fix funtion [-3.  4.]\n",
      "around function [-3.23  3.66]\n",
      "floor function [-4.  3.]\n",
      "ceil function [-3.  4.]\n"
     ]
    }
   ],
   "source": [
    "import numpy as np\n",
    "arr3 = np.trunc([-3.2343, 4.34454])\n",
    "arr4 = np.fix([-3.2343, 4.34454])\n",
    "arr5 = np.around([-3.2343,3.6556], 2)\n",
    "arr6 = np.floor([-3.2343,3.6556])\n",
    "arr7 = np.ceil([-3.2343,3.6556])\n",
    "print('truncate',arr3)\n",
    "print('fix funtion',arr4)\n",
    "print('around function',arr5)\n",
    "print('floor function',arr6)\n",
    "print('ceil function',arr7)"
   ]
  },
  {
   "cell_type": "markdown",
   "metadata": {},
   "source": [
    "### Ufunction log numpy"
   ]
  },
  {
   "cell_type": "markdown",
   "metadata": {},
   "source": [
    "- ExampleGet your own Python Server\n",
    "- Find log at base 2 of all elements of following array:"
   ]
  },
  {
   "cell_type": "code",
   "execution_count": 33,
   "metadata": {},
   "outputs": [
    {
     "name": "stdout",
     "output_type": "stream",
     "text": [
      "base 2 log function array\n",
      "[0.         1.         1.5849625  2.         2.32192809 2.5849625\n",
      " 2.80735492 3.         3.169925  ]\n",
      "base 10 log function array\n",
      "[0.         0.30103    0.47712125 0.60205999 0.69897    0.77815125\n",
      " 0.84509804 0.90308999 0.95424251]\n",
      "natural log or base e function\n",
      "[0.         0.69314718 1.09861229 1.38629436 1.60943791 1.79175947\n",
      " 1.94591015 2.07944154 2.19722458]\n"
     ]
    }
   ],
   "source": [
    "import numpy as np\n",
    "arr8 = np.arange(1,10)\n",
    "print('base 2 log function array')\n",
    "print(np.log2(arr8))\n",
    "print('base 10 log function array')\n",
    "print(np.log10(arr8))\n",
    "print('natural log or base e function')\n",
    "print(np.log(arr8))\n",
    "\n"
   ]
  },
  {
   "cell_type": "markdown",
   "metadata": {},
   "source": [
    "### Log at Any Base\n",
    "- NumPy does not provide any function to take log at any base, so we can use the frompyfunc() function along with inbuilt function math.log() with two input parameters and one output parameter:"
   ]
  },
  {
   "cell_type": "code",
   "execution_count": 43,
   "metadata": {},
   "outputs": [
    {
     "name": "stdout",
     "output_type": "stream",
     "text": [
      "1.7005483074552052\n"
     ]
    }
   ],
   "source": [
    "from math import log\n",
    "import numpy as np\n",
    "\n",
    "nplog = np.frompyfunc(log, 2, 1)\n",
    "\n",
    "print(nplog(100, 15))"
   ]
  }
 ],
 "metadata": {
  "kernelspec": {
   "display_name": ".venv",
   "language": "python",
   "name": "python3"
  },
  "language_info": {
   "codemirror_mode": {
    "name": "ipython",
    "version": 3
   },
   "file_extension": ".py",
   "mimetype": "text/x-python",
   "name": "python",
   "nbconvert_exporter": "python",
   "pygments_lexer": "ipython3",
   "version": "3.13.2"
  }
 },
 "nbformat": 4,
 "nbformat_minor": 2
}
